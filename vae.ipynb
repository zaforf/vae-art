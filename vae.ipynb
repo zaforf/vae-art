{
  "nbformat": 4,
  "nbformat_minor": 0,
  "metadata": {
    "colab": {
      "provenance": [],
      "gpuType": "T4"
    },
    "kernelspec": {
      "name": "python3",
      "display_name": "Python 3"
    },
    "language_info": {
      "name": "python"
    },
    "accelerator": "GPU",
    "widgets": {
      "application/vnd.jupyter.widget-state+json": {
        "c5e7a1cc73e243bdabf7727310f155f0": {
          "model_module": "@jupyter-widgets/controls",
          "model_name": "VBoxModel",
          "model_module_version": "1.5.0",
          "state": {
            "_dom_classes": [
              "widget-interact"
            ],
            "_model_module": "@jupyter-widgets/controls",
            "_model_module_version": "1.5.0",
            "_model_name": "VBoxModel",
            "_view_count": null,
            "_view_module": "@jupyter-widgets/controls",
            "_view_module_version": "1.5.0",
            "_view_name": "VBoxView",
            "box_style": "",
            "children": [
              "IPY_MODEL_64c9fda528564001ada975b7aed2b68e",
              "IPY_MODEL_29da3798fbbd46aeadbbd4ce1d27b473",
              "IPY_MODEL_044cef3ad96941cf8345e351ca30fa8f"
            ],
            "layout": "IPY_MODEL_a4a66fc3f1074961b2c031e12cde540f"
          }
        },
        "64c9fda528564001ada975b7aed2b68e": {
          "model_module": "@jupyter-widgets/controls",
          "model_name": "FloatSliderModel",
          "model_module_version": "1.5.0",
          "state": {
            "_dom_classes": [],
            "_model_module": "@jupyter-widgets/controls",
            "_model_module_version": "1.5.0",
            "_model_name": "FloatSliderModel",
            "_view_count": null,
            "_view_module": "@jupyter-widgets/controls",
            "_view_module_version": "1.5.0",
            "_view_name": "FloatSliderView",
            "continuous_update": true,
            "description": "z[0]",
            "description_tooltip": null,
            "disabled": false,
            "layout": "IPY_MODEL_59cf4c9334e648ed819a80e6be407481",
            "max": 8.405804634094238,
            "min": -12.46664047241211,
            "orientation": "horizontal",
            "readout": true,
            "readout_format": ".2f",
            "step": 0.1,
            "style": "IPY_MODEL_1c20750db67846beac6ccb5650db8047",
            "value": 0
          }
        },
        "29da3798fbbd46aeadbbd4ce1d27b473": {
          "model_module": "@jupyter-widgets/controls",
          "model_name": "FloatSliderModel",
          "model_module_version": "1.5.0",
          "state": {
            "_dom_classes": [],
            "_model_module": "@jupyter-widgets/controls",
            "_model_module_version": "1.5.0",
            "_model_name": "FloatSliderModel",
            "_view_count": null,
            "_view_module": "@jupyter-widgets/controls",
            "_view_module_version": "1.5.0",
            "_view_name": "FloatSliderView",
            "continuous_update": true,
            "description": "z[1]",
            "description_tooltip": null,
            "disabled": false,
            "layout": "IPY_MODEL_ca59b855eb734c8fa7b175d9168ad51d",
            "max": 2.9086074829101562,
            "min": -12.057866096496582,
            "orientation": "horizontal",
            "readout": true,
            "readout_format": ".2f",
            "step": 0.1,
            "style": "IPY_MODEL_7ceff2f064984fdab661209a70578176",
            "value": 0
          }
        },
        "044cef3ad96941cf8345e351ca30fa8f": {
          "model_module": "@jupyter-widgets/output",
          "model_name": "OutputModel",
          "model_module_version": "1.0.0",
          "state": {
            "_dom_classes": [],
            "_model_module": "@jupyter-widgets/output",
            "_model_module_version": "1.0.0",
            "_model_name": "OutputModel",
            "_view_count": null,
            "_view_module": "@jupyter-widgets/output",
            "_view_module_version": "1.0.0",
            "_view_name": "OutputView",
            "layout": "IPY_MODEL_cc63739fdb6d461eb620d1fa5df2ffe6",
            "msg_id": "",
            "outputs": [
              {
                "output_type": "display_data",
                "data": {
                  "text/plain": "<Figure size 300x300 with 1 Axes>",
                  "image/png": "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\n"
                },
                "metadata": {}
              }
            ]
          }
        },
        "a4a66fc3f1074961b2c031e12cde540f": {
          "model_module": "@jupyter-widgets/base",
          "model_name": "LayoutModel",
          "model_module_version": "1.2.0",
          "state": {
            "_model_module": "@jupyter-widgets/base",
            "_model_module_version": "1.2.0",
            "_model_name": "LayoutModel",
            "_view_count": null,
            "_view_module": "@jupyter-widgets/base",
            "_view_module_version": "1.2.0",
            "_view_name": "LayoutView",
            "align_content": null,
            "align_items": null,
            "align_self": null,
            "border": null,
            "bottom": null,
            "display": null,
            "flex": null,
            "flex_flow": null,
            "grid_area": null,
            "grid_auto_columns": null,
            "grid_auto_flow": null,
            "grid_auto_rows": null,
            "grid_column": null,
            "grid_gap": null,
            "grid_row": null,
            "grid_template_areas": null,
            "grid_template_columns": null,
            "grid_template_rows": null,
            "height": null,
            "justify_content": null,
            "justify_items": null,
            "left": null,
            "margin": null,
            "max_height": null,
            "max_width": null,
            "min_height": null,
            "min_width": null,
            "object_fit": null,
            "object_position": null,
            "order": null,
            "overflow": null,
            "overflow_x": null,
            "overflow_y": null,
            "padding": null,
            "right": null,
            "top": null,
            "visibility": null,
            "width": null
          }
        },
        "59cf4c9334e648ed819a80e6be407481": {
          "model_module": "@jupyter-widgets/base",
          "model_name": "LayoutModel",
          "model_module_version": "1.2.0",
          "state": {
            "_model_module": "@jupyter-widgets/base",
            "_model_module_version": "1.2.0",
            "_model_name": "LayoutModel",
            "_view_count": null,
            "_view_module": "@jupyter-widgets/base",
            "_view_module_version": "1.2.0",
            "_view_name": "LayoutView",
            "align_content": null,
            "align_items": null,
            "align_self": null,
            "border": null,
            "bottom": null,
            "display": null,
            "flex": null,
            "flex_flow": null,
            "grid_area": null,
            "grid_auto_columns": null,
            "grid_auto_flow": null,
            "grid_auto_rows": null,
            "grid_column": null,
            "grid_gap": null,
            "grid_row": null,
            "grid_template_areas": null,
            "grid_template_columns": null,
            "grid_template_rows": null,
            "height": null,
            "justify_content": null,
            "justify_items": null,
            "left": null,
            "margin": null,
            "max_height": null,
            "max_width": null,
            "min_height": null,
            "min_width": null,
            "object_fit": null,
            "object_position": null,
            "order": null,
            "overflow": null,
            "overflow_x": null,
            "overflow_y": null,
            "padding": null,
            "right": null,
            "top": null,
            "visibility": null,
            "width": null
          }
        },
        "1c20750db67846beac6ccb5650db8047": {
          "model_module": "@jupyter-widgets/controls",
          "model_name": "SliderStyleModel",
          "model_module_version": "1.5.0",
          "state": {
            "_model_module": "@jupyter-widgets/controls",
            "_model_module_version": "1.5.0",
            "_model_name": "SliderStyleModel",
            "_view_count": null,
            "_view_module": "@jupyter-widgets/base",
            "_view_module_version": "1.2.0",
            "_view_name": "StyleView",
            "description_width": "",
            "handle_color": null
          }
        },
        "ca59b855eb734c8fa7b175d9168ad51d": {
          "model_module": "@jupyter-widgets/base",
          "model_name": "LayoutModel",
          "model_module_version": "1.2.0",
          "state": {
            "_model_module": "@jupyter-widgets/base",
            "_model_module_version": "1.2.0",
            "_model_name": "LayoutModel",
            "_view_count": null,
            "_view_module": "@jupyter-widgets/base",
            "_view_module_version": "1.2.0",
            "_view_name": "LayoutView",
            "align_content": null,
            "align_items": null,
            "align_self": null,
            "border": null,
            "bottom": null,
            "display": null,
            "flex": null,
            "flex_flow": null,
            "grid_area": null,
            "grid_auto_columns": null,
            "grid_auto_flow": null,
            "grid_auto_rows": null,
            "grid_column": null,
            "grid_gap": null,
            "grid_row": null,
            "grid_template_areas": null,
            "grid_template_columns": null,
            "grid_template_rows": null,
            "height": null,
            "justify_content": null,
            "justify_items": null,
            "left": null,
            "margin": null,
            "max_height": null,
            "max_width": null,
            "min_height": null,
            "min_width": null,
            "object_fit": null,
            "object_position": null,
            "order": null,
            "overflow": null,
            "overflow_x": null,
            "overflow_y": null,
            "padding": null,
            "right": null,
            "top": null,
            "visibility": null,
            "width": null
          }
        },
        "7ceff2f064984fdab661209a70578176": {
          "model_module": "@jupyter-widgets/controls",
          "model_name": "SliderStyleModel",
          "model_module_version": "1.5.0",
          "state": {
            "_model_module": "@jupyter-widgets/controls",
            "_model_module_version": "1.5.0",
            "_model_name": "SliderStyleModel",
            "_view_count": null,
            "_view_module": "@jupyter-widgets/base",
            "_view_module_version": "1.2.0",
            "_view_name": "StyleView",
            "description_width": "",
            "handle_color": null
          }
        },
        "cc63739fdb6d461eb620d1fa5df2ffe6": {
          "model_module": "@jupyter-widgets/base",
          "model_name": "LayoutModel",
          "model_module_version": "1.2.0",
          "state": {
            "_model_module": "@jupyter-widgets/base",
            "_model_module_version": "1.2.0",
            "_model_name": "LayoutModel",
            "_view_count": null,
            "_view_module": "@jupyter-widgets/base",
            "_view_module_version": "1.2.0",
            "_view_name": "LayoutView",
            "align_content": null,
            "align_items": null,
            "align_self": null,
            "border": null,
            "bottom": null,
            "display": null,
            "flex": null,
            "flex_flow": null,
            "grid_area": null,
            "grid_auto_columns": null,
            "grid_auto_flow": null,
            "grid_auto_rows": null,
            "grid_column": null,
            "grid_gap": null,
            "grid_row": null,
            "grid_template_areas": null,
            "grid_template_columns": null,
            "grid_template_rows": null,
            "height": null,
            "justify_content": null,
            "justify_items": null,
            "left": null,
            "margin": null,
            "max_height": null,
            "max_width": null,
            "min_height": null,
            "min_width": null,
            "object_fit": null,
            "object_position": null,
            "order": null,
            "overflow": null,
            "overflow_x": null,
            "overflow_y": null,
            "padding": null,
            "right": null,
            "top": null,
            "visibility": null,
            "width": null
          }
        }
      }
    }
  },
  "cells": [
    {
      "cell_type": "code",
      "execution_count": 63,
      "metadata": {
        "id": "IUPdZD_fD6f1"
      },
      "outputs": [],
      "source": [
        "import os\n",
        "import numpy as np\n",
        "import matplotlib.pyplot as plt\n",
        "from PIL import Image\n",
        "import tensorflow as tf\n",
        "from tensorflow.python.keras import layers, Model\n",
        "from ipywidgets import interact, FloatSlider"
      ]
    },
    {
      "cell_type": "code",
      "source": [
        "def load_images(image_dir='images/'):\n",
        "    images = []\n",
        "    for img_file in sorted(os.listdir(image_dir)):\n",
        "        if img_file.lower().endswith(('.png', '.jpg', '.jpeg')):\n",
        "            img = Image.open(os.path.join(image_dir, img_file)).convert('RGBA')\n",
        "            img = img.resize((224, 224))\n",
        "            img_array = np.array(img, dtype=np.float32) / 255.0\n",
        "            images.append(img_array)\n",
        "    return np.array(images, dtype=np.float32)"
      ],
      "metadata": {
        "id": "AX9MDml2D8Gf"
      },
      "execution_count": 29,
      "outputs": []
    },
    {
      "cell_type": "code",
      "source": [
        "class VAE(Model):\n",
        "    def __init__(self, latent_dim=2):\n",
        "        super(VAE, self).__init__()\n",
        "        self.latent_dim = latent_dim\n",
        "\n",
        "        # Encoder layers\n",
        "        self.conv1 = layers.Conv2D(32, 3, strides=2, padding='same', activation='relu')\n",
        "        self.conv2 = layers.Conv2D(64, 3, strides=2, padding='same', activation='relu')\n",
        "        self.flatten = layers.Flatten()\n",
        "        self.dense1 = layers.Dense(16, activation='relu')\n",
        "\n",
        "        # Latent space\n",
        "        self.z_mean_layer = layers.Dense(latent_dim)\n",
        "        self.z_log_var_layer = layers.Dense(latent_dim)\n",
        "\n",
        "        # Decoder layers\n",
        "        self.dense2 = layers.Dense(56 * 56 * 32, activation='relu')\n",
        "        self.reshape = layers.Reshape((56, 56, 32))\n",
        "        self.conv_t1 = layers.Conv2DTranspose(64, 3, strides=2, padding='same', activation='relu')\n",
        "        self.conv_t2 = layers.Conv2DTranspose(32, 3, strides=2, padding='same', activation='relu')\n",
        "        self.conv_t3 = layers.Conv2DTranspose(4, 3, padding='same', activation='sigmoid')\n",
        "\n",
        "    def encode(self, x):\n",
        "        x = self.conv1(x)\n",
        "        x = self.conv2(x)\n",
        "        x = self.flatten(x)\n",
        "        x = self.dense1(x)\n",
        "\n",
        "        z_mean = self.z_mean_layer(x)\n",
        "        z_log_var = self.z_log_var_layer(x)\n",
        "\n",
        "        return z_mean, z_log_var\n",
        "\n",
        "    def decode(self, z):\n",
        "        x = self.dense2(z)\n",
        "        x = self.reshape(x)\n",
        "        x = self.conv_t1(x)\n",
        "        x = self.conv_t2(x)\n",
        "        x = self.conv_t3(x)\n",
        "        return x\n",
        "\n",
        "    def reparameterize(self, z_mean, z_log_var):\n",
        "        batch = tf.shape(z_mean)[0]\n",
        "        dim = tf.shape(z_mean)[1]\n",
        "        epsilon = tf.random.normal(shape=(batch, dim))\n",
        "        return z_mean + tf.exp(0.5 * z_log_var) * epsilon\n",
        "\n",
        "    def call(self, inputs):\n",
        "        z_mean, z_log_var = self.encode(inputs)\n",
        "        z = self.reparameterize(z_mean, z_log_var)\n",
        "        reconstructed = self.decode(z)\n",
        "\n",
        "        # Save for loss calculation\n",
        "        self.z_mean = z_mean\n",
        "        self.z_log_var = z_log_var\n",
        "\n",
        "        return reconstructed"
      ],
      "metadata": {
        "id": "yTgmG_ICENk6"
      },
      "execution_count": 30,
      "outputs": []
    },
    {
      "cell_type": "code",
      "source": [
        "def vae_loss(model, x):\n",
        "    reconstruction = model(x)\n",
        "\n",
        "    squared_diff = tf.square(x - reconstruction)\n",
        "    reconstruction_loss = tf.reduce_mean(\n",
        "        tf.reduce_sum(squared_diff, axis=[1, 2, 3])\n",
        "    )\n",
        "\n",
        "    kl_loss = -0.5 * tf.reduce_mean(\n",
        "        tf.reduce_sum(\n",
        "            1 + model.z_log_var - tf.square(model.z_mean) - tf.exp(model.z_log_var),\n",
        "            axis=1\n",
        "        )\n",
        "    )\n",
        "\n",
        "    return reconstruction_loss + kl_loss"
      ],
      "metadata": {
        "id": "WjyAh6GzESsI"
      },
      "execution_count": 31,
      "outputs": []
    },
    {
      "cell_type": "code",
      "source": [
        "@tf.function\n",
        "def train_step(model, x, optimizer):\n",
        "    with tf.GradientTape() as tape:\n",
        "        loss = vae_loss(model, x)\n",
        "    gradients = tape.gradient(loss, model.trainable_variables)\n",
        "    optimizer.apply_gradients(zip(gradients, model.trainable_variables))\n",
        "    return loss"
      ],
      "metadata": {
        "id": "pi2IOe8BEUl7"
      },
      "execution_count": 32,
      "outputs": []
    },
    {
      "cell_type": "code",
      "source": [
        "tf.keras.backend.set_floatx('float32')\n",
        "\n",
        "# Load images\n",
        "print(\"Loading images...\")\n",
        "images = load_images()\n",
        "print(f\"Loaded {len(images)} images with shape {images.shape}\")\n",
        "\n",
        "# Create model\n",
        "print(\"Building VAE model...\")\n",
        "vae = VAE(latent_dim=2)\n",
        "optimizer = tf.keras.optimizers.Adam(1e-4)\n",
        "\n",
        "# Call once to build the model\n",
        "_ = vae(images)\n",
        "\n",
        "# Train\n",
        "print(\"Training model...\")\n",
        "epochs = 10000\n",
        "\n",
        "for epoch in range(epochs):\n",
        "    loss = train_step(vae, images, optimizer)\n",
        "    if epoch % 100 == 0:\n",
        "        print(f\"Epoch {epoch}, Loss: {loss.numpy():.4f}\")"
      ],
      "metadata": {
        "id": "O2vndNbaEVy6"
      },
      "execution_count": null,
      "outputs": []
    },
    {
      "cell_type": "code",
      "source": [
        "z_mean, _ = vae.encode(images)\n",
        "z_mean = z_mean.numpy()\n",
        "\n",
        "plt.figure(figsize=(8, 6))\n",
        "plt.scatter(z_mean[:, 0], z_mean[:, 1], c='blue', alpha=0.8, s=100)\n",
        "for i, (x, y) in enumerate(zip(z_mean[:, 0], z_mean[:, 1])):\n",
        "    plt.annotate(str(i), xy=(x, y), xytext=(5, 0), textcoords='offset points')\n",
        "plt.title('2D Latent Space Representation')\n",
        "plt.xlabel('z[0]')\n",
        "plt.ylabel('z[1]')\n",
        "plt.grid(True)\n",
        "plt.show()\n",
        "\n",
        "min_x, max_x = z_mean[:, 0].min() - 1, z_mean[:, 0].max() + 1\n",
        "min_y, max_y = z_mean[:, 1].min() - 1, z_mean[:, 1].max() + 1\n",
        "print(f\"Bounds for sliders: z[0] = [{min_x:.2f}, {max_x:.2f}], z[1] = [{min_y:.2f}, {max_y:.2f}]\")\n",
        "\n",
        "def visualize_latent(z0, z1):\n",
        "    z_sample = np.array([[z0, z1]], dtype=np.float32)\n",
        "    x_decoded = vae.decode(z_sample)\n",
        "    plt.figure(figsize=(3, 3))\n",
        "    plt.imshow(x_decoded[0].numpy())\n",
        "    plt.axis('off')\n",
        "    plt.title(f\"z = [{z0:.2f}, {z1:.2f}]\")\n",
        "    plt.show()\n",
        "\n",
        "interact(\n",
        "    visualize_latent,\n",
        "    z0=FloatSlider(value=0, min=min_x, max=max_x, step=0.1, description='z[0]'),\n",
        "    z1=FloatSlider(value=0, min=min_y, max=max_y, step=0.1, description='z[1]')\n",
        ")"
      ],
      "metadata": {
        "colab": {
          "base_uri": "https://localhost:8080/",
          "height": 1000,
          "referenced_widgets": [
            "c5e7a1cc73e243bdabf7727310f155f0",
            "64c9fda528564001ada975b7aed2b68e",
            "29da3798fbbd46aeadbbd4ce1d27b473",
            "044cef3ad96941cf8345e351ca30fa8f",
            "a4a66fc3f1074961b2c031e12cde540f",
            "59cf4c9334e648ed819a80e6be407481",
            "1c20750db67846beac6ccb5650db8047",
            "ca59b855eb734c8fa7b175d9168ad51d",
            "7ceff2f064984fdab661209a70578176",
            "cc63739fdb6d461eb620d1fa5df2ffe6"
          ]
        },
        "id": "GKDJRXogEcaZ",
        "outputId": "3736deba-d319-45cf-e4e4-f0e8cc4536aa"
      },
      "execution_count": 64,
      "outputs": [
        {
          "output_type": "display_data",
          "data": {
            "text/plain": [
              "<Figure size 800x600 with 1 Axes>"
            ],
            "image/png": "[encoded data removed]"
          },
          "metadata": {}
        },
        {
          "output_type": "stream",
          "name": "stdout",
          "text": [
            "Bounds for sliders: z[0] = [-12.47, 8.41], z[1] = [-12.06, 2.91]\n"
          ]
        },
        {
          "output_type": "display_data",
          "data": {
            "text/plain": [
              "interactive(children=(FloatSlider(value=0.0, description='z[0]', max=8.405804634094238, min=-12.46664047241211…"
            ],
            "application/vnd.jupyter.widget-view+json": {
              "version_major": 2,
              "version_minor": 0,
              "model_id": "c5e7a1cc73e243bdabf7727310f155f0"
            }
          },
          "metadata": {}
        },
        {
          "output_type": "execute_result",
          "data": {
            "text/plain": [
              "<function __main__.visualize_latent(z0, z1)>"
            ],
            "text/html": [
              "<div style=\"max-width:800px; border: 1px solid var(--colab-border-color);\"><style>\n",
              "      pre.function-repr-contents {\n",
              "        overflow-x: auto;\n",
              "        padding: 8px 12px;\n",
              "        max-height: 500px;\n",
              "      }\n",
              "\n",
              "      pre.function-repr-contents.function-repr-contents-collapsed {\n",
              "        cursor: pointer;\n",
              "        max-height: 100px;\n",
              "      }\n",
              "    </style>\n",
              "    <pre style=\"white-space: initial; background:\n",
              "         var(--colab-secondary-surface-color); padding: 8px 12px;\n",
              "         border-bottom: 1px solid var(--colab-border-color);\"><b>visualize_latent</b><br/>def visualize_latent(z0, z1)</pre><pre class=\"function-repr-contents function-repr-contents-collapsed\" style=\"\"><a class=\"filepath\" style=\"display:none\" href=\"#\">/content/&lt;ipython-input-64-4b258334f085&gt;</a>&lt;no docstring&gt;</pre></div>"
            ]
          },
          "metadata": {},
          "execution_count": 64
        }
      ]
    },
    {
      "cell_type": "code",
      "source": [
        "class Decoder(tf.Module):\n",
        "    def __init__(self, vae):\n",
        "        super().__init__()\n",
        "        self.dense2 = vae.dense2\n",
        "        self.reshape = vae.reshape\n",
        "        self.conv_t1 = vae.conv_t1\n",
        "        self.conv_t2 = vae.conv_t2\n",
        "        self.conv_t3 = vae.conv_t3\n",
        "\n",
        "    @tf.function(input_signature=[tf.TensorSpec(shape=[None, vae.latent_dim], dtype=tf.float32)])\n",
        "    def __call__(self, z):\n",
        "        x = self.dense2(z)\n",
        "        x = self.reshape(x)\n",
        "        x = self.conv_t1(x)\n",
        "        x = self.conv_t2(x)\n",
        "        x = self.conv_t3(x)\n",
        "        return x\n",
        "\n",
        "decoder = Decoder(vae)\n",
        "tf.saved_model.save(decoder, \"decoder_model\", signatures={'serving_default': decoder.__call__})"
      ],
      "metadata": {
        "id": "t2Tjj3oHFGap"
      },
      "execution_count": 54,
      "outputs": []
    },
    {
      "cell_type": "code",
      "source": [
        "!tensorflowjs_converter --input_format=tf_saved_model --output_format=tfjs_graph_model decoder_model/ web_decoder_model/"
      ],
      "metadata": {
        "colab": {
          "base_uri": "https://localhost:8080/"
        },
        "id": "IVeA1FAUO_Aw",
        "outputId": "729887c7-37b9-42c0-c9c3-ed79d5c43091"
      },
      "execution_count": 55,
      "outputs": [
        {
          "output_type": "stream",
          "name": "stdout",
          "text": [
            "2025-05-29 04:22:20.755851: E external/local_xla/xla/stream_executor/cuda/cuda_fft.cc:477] Unable to register cuFFT factory: Attempting to register factory for plugin cuFFT when one has already been registered\n",
            "WARNING: All log messages before absl::InitializeLog() is called are written to STDERR\n",
            "E0000 00:00:1748492540.776950   16068 cuda_dnn.cc:8310] Unable to register cuDNN factory: Attempting to register factory for plugin cuDNN when one has already been registered\n",
            "E0000 00:00:1748492540.783256   16068 cuda_blas.cc:1418] Unable to register cuBLAS factory: Attempting to register factory for plugin cuBLAS when one has already been registered\n",
            "\u001b[32m🌲 Try \u001b[0m\u001b[34mhttps://ydf.readthedocs.io\u001b[0m\u001b[32m, the successor of TensorFlow Decision Forests with more features and faster training!\u001b[0m\n",
            "2025-05-29 04:22:25.254263: W tensorflow/core/common_runtime/gpu/gpu_bfc_allocator.cc:47] Overriding orig_value setting because the TF_FORCE_GPU_ALLOW_GROWTH environment variable is set. Original config value was 0.\n",
            "I0000 00:00:1748492545.254437   16068 gpu_device.cc:2022] Created device /job:localhost/replica:0/task:0/device:GPU:0 with 11000 MB memory:  -> device: 0, name: Tesla T4, pci bus id: 0000:00:04.0, compute capability: 7.5\n",
            "I0000 00:00:1748492545.336139   16068 devices.cc:67] Number of eligible GPUs (core count >= 8, compute capability >= 0.0): 1\n",
            "WARNING: All log messages before absl::InitializeLog() is called are written to STDERR\n",
            "I0000 00:00:1748492545.336318   16068 single_machine.cc:361] Starting new session\n",
            "I0000 00:00:1748492545.337211   16068 gpu_device.cc:2022] Created device /job:localhost/replica:0/task:0/device:GPU:0 with 11000 MB memory:  -> device: 0, name: Tesla T4, pci bus id: 0000:00:04.0, compute capability: 7.5\n"
          ]
        }
      ]
    }
  ]
}